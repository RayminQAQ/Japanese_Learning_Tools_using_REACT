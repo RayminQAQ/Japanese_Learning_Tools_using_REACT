{
 "cells": [
  {
   "cell_type": "markdown",
   "metadata": {},
   "source": [
    "### Project Description: kuzushiji images classification"
   ]
  },
  {
   "cell_type": "markdown",
   "metadata": {},
   "source": [
    "1. Build: python 3.10\n",
    "\n",
    "2. Clone from: https://github.com/rois-codh/kmnist\n",
    "\n",
    "3. About the Kuzushiji-49 dataset used:\n",
    "\n",
    "   > Kuzushiji-49, as the name suggests, has 49 classes (28x28 grayscale, 270,912 images), is a much larger, but imbalanced dataset containing 48 Hiragana characters and one Hiragana iteration mark."
   ]
  },
  {
   "cell_type": "markdown",
   "metadata": {},
   "source": [
    "### Clone dataset"
   ]
  },
  {
   "cell_type": "markdown",
   "metadata": {},
   "source": [
    "you can run kuzushiji-49.py in terminal in order to download kuzushiji-49\n",
    "> python kuzushiji-49\n",
    "\n",
    "or you can download dataset by hand in:\n",
    "https://www.kaggle.com/datasets/anokas/kuzushiji"
   ]
  },
  {
   "cell_type": "markdown",
   "metadata": {},
   "source": [
    "### View Dataset"
   ]
  },
  {
   "cell_type": "markdown",
   "metadata": {},
   "source": [
    "Load Reference:\n",
    "1. https://stackoverflow.com/questions/18231135/load-compressed-data-npz-from-file-using-numpy-load\n",
    "2. source code demo from Kuzushiji-49 dataset\n",
    "\n",
    "Visualize Reference:\n",
    "1. https://blog.csdn.net/DarrenXf/article/details/120107983\n",
    "2. https://blog.csdn.net/qq_41554005/article/details/116093092"
   ]
  },
  {
   "cell_type": "code",
   "execution_count": 2,
   "metadata": {},
   "outputs": [
    {
     "name": "stdout",
     "output_type": "stream",
     "text": [
      "Shape: (28, 28)\n",
      "[[  0   0   0   0   0   0   0   0   0   0  69 213  39  32 193  52   0   0\n",
      "    0   0   0   0   0   0   0   0   0   0]\n",
      " [  0   0   0   0   0   0   0   0   0  58 235  65   0   0  64 222  15   0\n",
      "    0   0   0   0   0   0   0   0   0   0]\n",
      " [  0   0   0   0   0   0   0   0   8 213  59   0   0   0   9 229  93   0\n",
      "    0   0   0   0   0   0   0   0   0   0]\n",
      " [  0   0   0   0   0   0   0   0  47 164   0   0   1  37  30 174  90   0\n",
      "    0   0   0   0   0   0   0   0   0   0]\n",
      " [  0   0   0   0   0   0   0   0  77 132  28  84 172 252 239 199  10   0\n",
      "    0   0   0   0   0   0   0   0   0   0]\n",
      " [  0   0   0   0   0   0   0   0  65 253 248 255 203 132  26 200 123  56\n",
      "   62  38   0   0   0   0   0   0   0   0]\n",
      " [  0   0   0   0   0   0   0   0   1 117 150  72   6   0   0 176 255 255\n",
      "  255 200   0   0   0   0   0   0   0   0]\n",
      " [  0   0   0   0   0   0   0   0   0   0   0   0   0   0   0 208 255 250\n",
      "  173  39   0   0   0   0   0   0   0   0]\n",
      " [  0   0   0   0   0   0   0   0   0   0   0   0   0  15 150 246 132  48\n",
      "    1   0   0   0   0   0   0   0   0   0]\n",
      " [  0   0   0   0   0   0   0   0   1  28   0   8  92 230 254 247  39   0\n",
      "    0   0   0   0   0   0   0   0   0   0]\n",
      " [  0   0   0   0   0   0   0   0  46 213 142 227 227 119  67 254  50   0\n",
      "    0   0   0   0   0   0   0   0   0   0]\n",
      " [  0   0   0   0   0   0   0   0  61 212 244 176  33   0   9 244  63   0\n",
      "    0   0   0   0   0   0   0   0   0   0]\n",
      " [  0   0   0   0   0   0   0   0   0   7  17   1   0   0   1 220 109   0\n",
      "    0   0   0   0   0   0   0   0   0   0]\n",
      " [  0   0   0   0   0   0   0   0   0   0   0   0   0   0   0 188 127   0\n",
      "    0   0   0   0   0   0   0   0   0   0]\n",
      " [  0   0   0   0   0   0   0   0   0   0   0   0   0   0  28 190 128   0\n",
      "    0   0   0   0   0   0   0   0   0   0]\n",
      " [  0   0   0   0   0   0   0   0   0   0   0   0   3 126 253 254 118   0\n",
      "    0   0   0   0   0   0   0   0   0   0]\n",
      " [  0   0   0   0   0   0   0   0   0   0   0   4 185 255 255 255 203  16\n",
      "    0   0   0   0   0   0   0   0   0   0]\n",
      " [  0   0   0   0   0   0   0   0   0   0   0  42 242 249 255 255 255 165\n",
      "    2   0   0   0   0   0   0   0   0   0]\n",
      " [  0   0   0   0   0   0   0   0   0   0   0  99 235 246 255 179 178 253\n",
      "  115   0   0   0   0   0   0   0   0   0]\n",
      " [  0   0   0   0   0   0   0   0   0   0   0  51 226 255 212  24  30 249\n",
      "  192   0   0   0   0   0   0   0   0   0]\n",
      " [  0   0   0   0   0   0   0   0   0   0   0   0  32 157  38   0   0 197\n",
      "  229   2   0   0   0   0   0   0   0   0]\n",
      " [  0   0   0   0   0   0   0   0   0   0   0   0   0   0   0   0   0 170\n",
      "  242   6   0   0   0   0   0   0   0   0]\n",
      " [  0   0   0   0   0   0   0   0   0   0   0   0   0   0   0   0   0 197\n",
      "  188   0   0   0   0   0   0   0   0   0]\n",
      " [  0   0   0   0   0   0   0   0   0   0   0   0   0   0   0   0   6 231\n",
      "  129   0   0   0   0   0   0   0   0   0]\n",
      " [  0   0   0   0   0   0   0   0   0   0   0   0   0   0   0   0  39 254\n",
      "   50   0   0   0   0   0   0   0   0   0]\n",
      " [  0   0   0   0   0   0   0   0   0   0   0   0   0   0   0   0 115 216\n",
      "    6   0   0   0   0   0   0   0   0   0]\n",
      " [  0   0   0   0   0   0   0   0   0   0   0   0   0   0   0   0 196 104\n",
      "    0   0   0   0   0   0   0   0   0   0]\n",
      " [  0   0   0   0   0   0   0   0   0   0   0   0   0   0   0  55 246  36\n",
      "    0   0   0   0   0   0   0   0   0   0]] \n",
      " 30\n"
     ]
    }
   ],
   "source": [
    "import numpy as np\n",
    "\n",
    "def load(f):\n",
    "    return np.load(f)['arr_0']\n",
    "\n",
    "train_data, train_label = load('kuzushiji-49/k49-train-imgs.npz'), load('kuzushiji-49/k49-train-labels.npz')\n",
    "test_data, test_label = load('kuzushiji-49/k49-test-imgs.npz'), load('kuzushiji-49/k49-test-labels.npz')\n",
    "\n",
    "# shape: (28, 28)\n",
    "print(f\"Shape: {train_data[0].shape}\")\n",
    "\n",
    "# data\n",
    "print(train_data[0], \"\\n\", train_label[0])\n",
    "\n",
    "del train_data, train_label, test_data, test_label"
   ]
  },
  {
   "cell_type": "code",
   "execution_count": 3,
   "metadata": {},
   "outputs": [
    {
     "data": {
      "image/png": "[encoded data removed]",
      "text/plain": [
       "<Figure size 640x480 with 1 Axes>"
      ]
     },
     "metadata": {},
     "output_type": "display_data"
    }
   ],
   "source": [
    "# Visualization\n",
    "import csv\n",
    "import matplotlib.pyplot as plt\n",
    "\n",
    "\n",
    "train_data, train_label = load('kuzushiji-49/k49-train-imgs.npz'), load('kuzushiji-49/k49-train-labels.npz')\n",
    "test_data, test_label = load('kuzushiji-49/k49-test-imgs.npz'), load('kuzushiji-49/k49-test-labels.npz')\n",
    "DATA_CLASSMAP = './kuzushiji-49/k49_classmap.csv'\n",
    "\n",
    "def _search_classmap(id):\n",
    "    try:\n",
    "        with open(\"{}\".format(DATA_CLASSMAP), 'r', encoding='utf-8') as csvfile:\n",
    "            reader = csv.DictReader(csvfile)\n",
    "            for row in reader:\n",
    "                if str(id) == row['index']:\n",
    "                    return row['char']\n",
    "            return \"Not found\"\n",
    "        \n",
    "    except FileNotFoundError:\n",
    "        print(\"File is not open: check your DATA_CLASSMAP\")\n",
    "        return \"\"\n",
    "    \n",
    "    except Exception as e:\n",
    "        print(f\"ERROR: {e}\")\n",
    "        return \"\"\n",
    "        \n",
    "def visualization(index):\n",
    "    plt.imshow(train_data[index], interpolation='nearest')\n",
    "    plt.title('JP kuzushiji with id={}({})'.format(train_label[index], _search_classmap(train_label[index])), fontname=\"MS Gothic\")\n",
    "    plt.xticks([]) # 去掉刻度值\n",
    "    plt.yticks([])\n",
    "    plt.show()\n",
    "    \n",
    "visualization(0)  "
   ]
  },
  {
   "cell_type": "markdown",
   "metadata": {},
   "source": [
    "### Build model in pytorch"
   ]
  },
  {
   "cell_type": "markdown",
   "metadata": {},
   "source": [
    "Reference:\n",
    "1. torch.nn.Module\n",
    "    - https://ithelp.ithome.com.tw/articles/10279986\n",
    "    \n",
    "2. torch.utils.data.Dataset && torch.utils.data.Dataloader\n",
    "    - https://rowantseng.medium.com/pytorch-%E8%87%AA%E5%AE%9A%E7%BE%A9%E8%B3%87%E6%96%99%E9%9B%86-custom-dataset-7f9958a8ff15\n",
    "    - https://blog.csdn.net/ljp1919/article/details/116484330\n",
    "    - https://pytorch.org/tutorials/beginner/basics/data_tutorial.html\n",
    "    - https://saturncloud.io/blog/converting-from-numpy-array-to-pytorch-tensor-a-comprehensive-guide/\n",
    "    - https://blog.csdn.net/weixin_41560402/article/details/108121344\n",
    "    \n",
    "3. Train && Test\n",
    "    - https://hackmd.io/@lido2370/SJMPbNnKN?type=view\n",
    "\n",
    "4. CNN theory recall\n",
    "    - https://blog.csdn.net/csdn_xmj/article/details/116206119\n",
    "    - https://blog.csdn.net/weixin_44912159/article/details/105345760"
   ]
  },
  {
   "cell_type": "code",
   "execution_count": 4,
   "metadata": {},
   "outputs": [
    {
     "name": "stdout",
     "output_type": "stream",
     "text": [
      "KUZ_Model(\n",
      "  (network): Sequential(\n",
      "    (0): Conv2d(1, 3, kernel_size=(3, 3), stride=(1, 1))\n",
      "    (1): ReLU()\n",
      "    (2): Conv2d(3, 5, kernel_size=(3, 3), stride=(1, 1))\n",
      "    (3): ReLU()\n",
      "    (4): Flatten(start_dim=1, end_dim=-1)\n",
      "    (5): Linear(in_features=2880, out_features=128, bias=True)\n",
      "    (6): ReLU()\n",
      "    (7): Linear(in_features=128, out_features=50, bias=True)\n",
      "    (8): Softmax(dim=None)\n",
      "  )\n",
      ")\n"
     ]
    },
    {
     "data": {
      "text/plain": [
       "'\\nfrom torchinfo import summary\\nsummary(KUZ_Model, input_size=[28,28])\\n'"
      ]
     },
     "execution_count": 4,
     "metadata": {},
     "output_type": "execute_result"
    }
   ],
   "source": [
    "import torch.nn as nn\n",
    "\n",
    "# IMG_Channel, IMG_ROWS, IMG_COLS = 1, 28, 28\n",
    "\n",
    "class KUZ_Model(nn.Module):\n",
    "    def __init__(self):\n",
    "        super(KUZ_Model, self).__init__()\n",
    "        \n",
    "        self.network = nn.Sequential(\n",
    "            nn.Conv2d(in_channels=1, out_channels=3, kernel_size=3, stride=1), # output shape 3 * (28-2) * (28-2)\n",
    "            nn.ReLU(),\n",
    "            nn.Conv2d(in_channels=3, out_channels=5, kernel_size=3, stride=1), # output shape 5 * (28-2-2) * (28-2-2)\n",
    "            nn.ReLU(),\n",
    "            nn.Flatten(),\n",
    "            nn.Linear(5*24*24, 128),\n",
    "            nn.ReLU(),\n",
    "            nn.Linear(128, 50),\n",
    "            nn.Softmax()\n",
    "        )\n",
    "    \n",
    "    def forward(self, x):\n",
    "        return self.network(x)\n",
    "    \n",
    "print(KUZ_Model())\n",
    "\n",
    "\"\"\"\n",
    "from torchinfo import summary\n",
    "summary(KUZ_Model, input_size=[28,28])\n",
    "\"\"\""
   ]
  },
  {
   "cell_type": "code",
   "execution_count": 5,
   "metadata": {},
   "outputs": [],
   "source": [
    "import numpy as np\n",
    "import torch\n",
    "from torch.utils.data.dataset import Dataset\n",
    "from torch.utils.data import DataLoader\n",
    "\n",
    "def load(f):\n",
    "    return np.load(f)['arr_0']\n",
    "\n",
    "class KUZ49_Dataset(Dataset):\n",
    "    def __init__(self, DATA_DIR_ROOT, split, transform):\n",
    "        # --------------------------------------------\n",
    "        # Initialize paths, transforms, and so on\n",
    "        # --------------------------------------------\n",
    "        self.transform = transform\n",
    "        \n",
    "        if split != \"test\" and split != \"train\":\n",
    "            print(\"SYNTAX ERROR WHILE LOADING KUZ49_Dataset\")\n",
    "            \n",
    "        self.imgs = load(f'{DATA_DIR_ROOT}/k49-{split}-imgs.npz')     \n",
    "        self.img_labels = load(f'{DATA_DIR_ROOT}/k49-{split}-labels.npz')\n",
    "        \n",
    "    def __getitem__(self, index) -> tuple[torch.Tensor, int]:\n",
    "        # --------------------------------------------\n",
    "        # 1. Read from file (using numpy.fromfile, PIL.Image.open)\n",
    "        # 2. Preprocess the data (torchvision.Transform).\n",
    "        # 3. Return the data (e.g. image and label)\n",
    "        # --------------------------------------------\n",
    "        image, label = self.imgs[index], self.img_labels[index]\n",
    "        \n",
    "        if self.transform is not None:\n",
    "            image = self.transform(image)\n",
    "            label = self.transform(label)\n",
    "        else:\n",
    "            image = torch.from_numpy(image).type(torch.LongTensor)\n",
    "            label = torch.from_numpy(label).type(torch.LongTensor)\n",
    "        \n",
    "        return image, label\n",
    "        \n",
    "    def __len__(self) -> int:\n",
    "        # --------------------------------------------\n",
    "        # Indicate the total size of the dataset\n",
    "        # -------------------------------------------\n",
    "        return len(self.imgs)\n",
    "    \n",
    "    def _imageShape(self):\n",
    "        return self.imgs.shape\n"
   ]
  },
  {
   "cell_type": "code",
   "execution_count": 6,
   "metadata": {},
   "outputs": [
    {
     "name": "stdout",
     "output_type": "stream",
     "text": [
      "tensor([[-0.8171,  0.3016,  0.2358,  1.4716],\n",
      "        [ 0.6366,  1.1958, -0.0111, -1.0026]])\n",
      "tensor([1.4716, 1.1958])\n",
      "tensor([3, 1])\n"
     ]
    }
   ],
   "source": [
    "# TEST AREA: torch.tensor\n",
    "import torch\n",
    "\n",
    "tensor1 = torch.tensor([1,2,3,4])\n",
    "tensor2 = torch.randn(2, 4)\n",
    "print(tensor2)\n",
    "\n",
    "print(torch.max(tensor2, 1)[0])\n",
    "print(torch.max(tensor2, 1)[1])"
   ]
  },
  {
   "cell_type": "code",
   "execution_count": 7,
   "metadata": {},
   "outputs": [
    {
     "name": "stderr",
     "output_type": "stream",
     "text": [
      "d:\\Web_related\\Japanese_Learning_Tools_using_REACT\\model\\venv-python310-data\\lib\\site-packages\\tqdm\\auto.py:21: TqdmWarning: IProgress not found. Please update jupyter and ipywidgets. See https://ipywidgets.readthedocs.io/en/stable/user_install.html\n",
      "  from .autonotebook import tqdm as notebook_tqdm\n"
     ]
    }
   ],
   "source": [
    "from tqdm.auto import tqdm\n",
    "\n",
    "def _trainstep(model: torch.nn.Module, \n",
    "              train_loader: torch.utils.data.DataLoader, \n",
    "              loss_func: torch.nn.Module, \n",
    "              optimizer: torch.optim.Optimizer):\n",
    "\n",
    "    train_loss, train_acc = 0, 0 \n",
    "    \n",
    "    model.train()\n",
    "    for batch, (images, labels) in enumerate(train_loader):\n",
    "        # Get Loss\n",
    "        outputs = model(images)\n",
    "        loss = loss_func(outputs, labels)\n",
    "        train_loss += loss.item()\n",
    "        \n",
    "        # Compute && Update Gradient\n",
    "        optimizer.zero_grad()\n",
    "        loss.backward()\n",
    "        optimizer.step()\n",
    "        \n",
    "        # Calculate and accumulate accuracy metric across all batches\n",
    "        predict_Seq = torch.max(outputs, 1)[1]\n",
    "        train_acc += ((predict_Seq==labels).sum().item()/len(outputs))\n",
    "        \n",
    "    train_loss = train_loss / len(train_loader)\n",
    "    train_acc = train_acc / len(train_loader)\n",
    "    return train_loss, train_acc\n",
    "\n",
    "def _teststep(model: torch.nn.Module, \n",
    "              test_loader: torch.utils.data.DataLoader, \n",
    "              loss_func: torch.nn.Module):\n",
    "    \n",
    "    test_loss, test_acc = 0, 0\n",
    "    \n",
    "    model.eval()\n",
    "    with torch.no_grad():\n",
    "        for batch, (images, labels) in enumerate(test_loader):\n",
    "            # Get Loss\n",
    "            outputs = model(images)\n",
    "            loss = loss_func(outputs, labels)\n",
    "            test_loss += loss.item()\n",
    "             \n",
    "            # Calculate and accumulate accuracy metric across all batches\n",
    "            predict_Seq = torch.max(outputs, 1)[1]\n",
    "            test_acc += ((predict_Seq==labels).sum().item()/len(outputs))\n",
    "            \n",
    "def fit_model(model: torch.nn.Module, \n",
    "              train_loader: torch.utils.data.DataLoader, \n",
    "              test_loader: torch.utils.data.DataLoader,\n",
    "              loss_func: torch.nn.Module, \n",
    "              optimizer: torch.optim.Optimizer,\n",
    "              input_shape: any, num_epochs: int):\n",
    "    \n",
    "    results = {\n",
    "        \"train_loss\": [], \n",
    "        \"train_acc\": [], \n",
    "        \"test_loss\": [], \n",
    "        \"test_acc\": []\n",
    "    }\n",
    "    \n",
    "    for epoch in tqdm(range(num_epochs)):\n",
    "        train_loss, train_acc = _trainstep(model, train_loader, loss_func, optimizer)            \n",
    "        test_loss, test_acc = _teststep(model, test_loader, loss_func) \n",
    "        \n",
    "        # print\n",
    "        print(\n",
    "            f\"Epoch: {epoch+1} | \"\n",
    "            f\"train_loss: {train_loss:.4f} | \"\n",
    "            f\"train_acc: {train_acc:.4f} | \"\n",
    "            f\"test_loss: {test_loss:.4f} | \"\n",
    "            f\"test_acc: {test_acc:.4f}\"\n",
    "        )\n",
    "        \n",
    "        # Note: The results obtained correspond to each epoch's performance metrics.\n",
    "        results[\"train_loss\"].append(train_loss)\n",
    "        results[\"train_acc\"].append(train_acc) \n",
    "        results[\"test_loss\"].append(test_loss) \n",
    "        results[\"test_acc\"].append(test_acc) "
   ]
  },
  {
   "cell_type": "code",
   "execution_count": null,
   "metadata": {},
   "outputs": [],
   "source": [
    "import torch\n",
    "import torch.nn as nn\n",
    "from torch.utils.data import DataLoader\n",
    "\n",
    "# Hyper Parameters\n",
    "LR = 0.01\n",
    "batch_size = 32\n",
    "num_epochs = 1\n",
    "\n",
    "# Pytorch DataLoader\n",
    "train_loader = DataLoader(KUZ49_Dataset(DATA_DIR_ROOT='kuzushiji-49', split='train', transform=None), batch_size=batch_size, shuffle=True, num_workers=4)\n",
    "test_loader = DataLoader(KUZ49_Dataset(DATA_DIR_ROOT='kuzushiji-49', split='test', transform=None), batch_size=batch_size, shuffle=True, num_workers=4)\n",
    "\n",
    "# \n",
    "model = KUZ_Model()\n",
    "device = torch.device(\"cuda\" if torch.cuda.is_available() else \"cpu\")\n",
    "model.to(device)\n",
    "\n",
    "optimizer = torch.optim.Adam(model.parameters(), lr=LR)   # optimize all cnn parameters\n",
    "loss_func = nn.CrossEntropyLoss()   # the target label is not one-hotted\n",
    "input_shape = (1,28,28)\n",
    "\n",
    "fit_model(model, train_loader, test_loader, loss_func, optimizer, input_shape, num_epochs)"
   ]
  },
  {
   "cell_type": "markdown",
   "metadata": {},
   "source": [
    "### Save model"
   ]
  },
  {
   "cell_type": "code",
   "execution_count": null,
   "metadata": {},
   "outputs": [],
   "source": [
    "torch.save(model, 'save.pt')"
   ]
  }
 ],
 "metadata": {
  "kernelspec": {
   "display_name": "venv-python310-data",
   "language": "python",
   "name": "python3"
  },
  "language_info": {
   "codemirror_mode": {
    "name": "ipython",
    "version": 3
   },
   "file_extension": ".py",
   "mimetype": "text/x-python",
   "name": "python",
   "nbconvert_exporter": "python",
   "pygments_lexer": "ipython3",
   "version": "3.10.11"
  }
 },
 "nbformat": 4,
 "nbformat_minor": 2
}
